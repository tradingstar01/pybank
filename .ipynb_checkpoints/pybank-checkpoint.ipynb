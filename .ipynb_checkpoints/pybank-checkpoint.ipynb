{
 "cells": [
  {
   "cell_type": "code",
   "execution_count": 1,
   "id": "c1880e23-cb7a-43c5-b604-f5eb91bab6cd",
   "metadata": {},
   "outputs": [],
   "source": [
    "import numpy_financial as npf"
   ]
  },
  {
   "cell_type": "code",
   "execution_count": 2,
   "id": "b4f1bf93-6e93-4555-8f1e-176a67ecc258",
   "metadata": {},
   "outputs": [],
   "source": [
    "import os # for file path\n",
    "import csv # for reading csv file"
   ]
  },
  {
   "cell_type": "code",
   "execution_count": 8,
   "id": "2a65f133-4537-40dc-a912-17615f519a99",
   "metadata": {},
   "outputs": [
    {
     "name": "stdout",
     "output_type": "stream",
     "text": [
      "C:\\Users\\green\\Documents\\pybank\n"
     ]
    }
   ],
   "source": [
    "current_dir = os.getcwd() # get current working dir\n",
    "print(current_dir)"
   ]
  },
  {
   "cell_type": "code",
   "execution_count": 13,
   "id": "b9f8c452-1426-43e1-bdef-5d5d3f5104fc",
   "metadata": {},
   "outputs": [
    {
     "name": "stdout",
     "output_type": "stream",
     "text": [
      "C:\\Users\\green\\Documents\\pybank\\Resources\\budget_data.csv\n"
     ]
    }
   ],
   "source": [
    "path_budget_data = os.path.join(current_dir, \"Resources\", \"budget_data.csv\") # get the csv file path\n",
    "print(path_budget_data)"
   ]
  },
  {
   "cell_type": "code",
   "execution_count": 95,
   "id": "98f5307b-da47-4bfd-a4ce-33603096f585",
   "metadata": {},
   "outputs": [
    {
     "name": "stdout",
     "output_type": "stream",
     "text": [
      "[{'Date': 'Jan-2010', 'Profit/Losses': '867884'}, {'Date': 'Feb-2010', 'Profit/Losses': '984655'}, {'Date': 'Mar-2010', 'Profit/Losses': '322013'}, {'Date': 'Apr-2010', 'Profit/Losses': '-69417'}, {'Date': 'May-2010', 'Profit/Losses': '310503'}, {'Date': 'Jun-2010', 'Profit/Losses': '522857'}, {'Date': 'Jul-2010', 'Profit/Losses': '1033096'}, {'Date': 'Aug-2010', 'Profit/Losses': '604885'}, {'Date': 'Sep-2010', 'Profit/Losses': '-216386'}, {'Date': 'Oct-2010', 'Profit/Losses': '477532'}, {'Date': 'Nov-2010', 'Profit/Losses': '893810'}, {'Date': 'Dec-2010', 'Profit/Losses': '-80353'}, {'Date': 'Jan-2011', 'Profit/Losses': '779806'}, {'Date': 'Feb-2011', 'Profit/Losses': '-335203'}, {'Date': 'Mar-2011', 'Profit/Losses': '697845'}, {'Date': 'Apr-2011', 'Profit/Losses': '793163'}, {'Date': 'May-2011', 'Profit/Losses': '485070'}, {'Date': 'Jun-2011', 'Profit/Losses': '584122'}, {'Date': 'Jul-2011', 'Profit/Losses': '62729'}, {'Date': 'Aug-2011', 'Profit/Losses': '668179'}, {'Date': 'Sep-2011', 'Profit/Losses': '899906'}, {'Date': 'Oct-2011', 'Profit/Losses': '834719'}, {'Date': 'Nov-2011', 'Profit/Losses': '132003'}, {'Date': 'Dec-2011', 'Profit/Losses': '309978'}, {'Date': 'Jan-2012', 'Profit/Losses': '-755566'}, {'Date': 'Feb-2012', 'Profit/Losses': '1170593'}, {'Date': 'Mar-2012', 'Profit/Losses': '252788'}, {'Date': 'Apr-2012', 'Profit/Losses': '1151518'}, {'Date': 'May-2012', 'Profit/Losses': '817256'}, {'Date': 'Jun-2012', 'Profit/Losses': '570757'}, {'Date': 'Jul-2012', 'Profit/Losses': '506702'}, {'Date': 'Aug-2012', 'Profit/Losses': '-1022534'}, {'Date': 'Sep-2012', 'Profit/Losses': '475062'}, {'Date': 'Oct-2012', 'Profit/Losses': '779976'}, {'Date': 'Nov-2012', 'Profit/Losses': '144175'}, {'Date': 'Dec-2012', 'Profit/Losses': '542494'}, {'Date': 'Jan-2013', 'Profit/Losses': '359333'}, {'Date': 'Feb-2013', 'Profit/Losses': '321469'}, {'Date': 'Mar-2013', 'Profit/Losses': '67780'}, {'Date': 'Apr-2013', 'Profit/Losses': '471435'}, {'Date': 'May-2013', 'Profit/Losses': '565603'}, {'Date': 'Jun-2013', 'Profit/Losses': '872480'}, {'Date': 'Jul-2013', 'Profit/Losses': '789480'}, {'Date': 'Aug-2013', 'Profit/Losses': '999942'}, {'Date': 'Sep-2013', 'Profit/Losses': '-1196225'}, {'Date': 'Oct-2013', 'Profit/Losses': '268997'}, {'Date': 'Nov-2013', 'Profit/Losses': '-687986'}, {'Date': 'Dec-2013', 'Profit/Losses': '1150461'}, {'Date': 'Jan-2014', 'Profit/Losses': '682458'}, {'Date': 'Feb-2014', 'Profit/Losses': '617856'}, {'Date': 'Mar-2014', 'Profit/Losses': '824098'}, {'Date': 'Apr-2014', 'Profit/Losses': '581943'}, {'Date': 'May-2014', 'Profit/Losses': '132864'}, {'Date': 'Jun-2014', 'Profit/Losses': '448062'}, {'Date': 'Jul-2014', 'Profit/Losses': '689161'}, {'Date': 'Aug-2014', 'Profit/Losses': '800701'}, {'Date': 'Sep-2014', 'Profit/Losses': '1166643'}, {'Date': 'Oct-2014', 'Profit/Losses': '947333'}, {'Date': 'Nov-2014', 'Profit/Losses': '578668'}, {'Date': 'Dec-2014', 'Profit/Losses': '988505'}, {'Date': 'Jan-2015', 'Profit/Losses': '1139715'}, {'Date': 'Feb-2015', 'Profit/Losses': '1029471'}, {'Date': 'Mar-2015', 'Profit/Losses': '687533'}, {'Date': 'Apr-2015', 'Profit/Losses': '-524626'}, {'Date': 'May-2015', 'Profit/Losses': '158620'}, {'Date': 'Jun-2015', 'Profit/Losses': '87795'}, {'Date': 'Jul-2015', 'Profit/Losses': '423389'}, {'Date': 'Aug-2015', 'Profit/Losses': '840723'}, {'Date': 'Sep-2015', 'Profit/Losses': '568529'}, {'Date': 'Oct-2015', 'Profit/Losses': '332067'}, {'Date': 'Nov-2015', 'Profit/Losses': '989499'}, {'Date': 'Dec-2015', 'Profit/Losses': '778237'}, {'Date': 'Jan-2016', 'Profit/Losses': '650000'}, {'Date': 'Feb-2016', 'Profit/Losses': '-1100387'}, {'Date': 'Mar-2016', 'Profit/Losses': '-174946'}, {'Date': 'Apr-2016', 'Profit/Losses': '757143'}, {'Date': 'May-2016', 'Profit/Losses': '445709'}, {'Date': 'Jun-2016', 'Profit/Losses': '712961'}, {'Date': 'Jul-2016', 'Profit/Losses': '-1163797'}, {'Date': 'Aug-2016', 'Profit/Losses': '569899'}, {'Date': 'Sep-2016', 'Profit/Losses': '768450'}, {'Date': 'Oct-2016', 'Profit/Losses': '102685'}, {'Date': 'Nov-2016', 'Profit/Losses': '795914'}, {'Date': 'Dec-2016', 'Profit/Losses': '60988'}, {'Date': 'Jan-2017', 'Profit/Losses': '138230'}, {'Date': 'Feb-2017', 'Profit/Losses': '671099'}]\n"
     ]
    }
   ],
   "source": [
    "def read_csv_file(file_path):\n",
    "    \n",
    "    data = []\n",
    "    with open(file_path, 'r') as file:\n",
    "        reader = csv.DictReader(file)\n",
    "        for row in reader:\n",
    "            data.append(dict(row))\n",
    "    return data\n",
    "\n",
    "data = read_csv_file(path_budget_data)\n",
    "print(data)\n"
   ]
  },
  {
   "cell_type": "code",
   "execution_count": 150,
   "id": "6b3af21b-c99b-41d1-b0d4-189ca37bd939",
   "metadata": {},
   "outputs": [
    {
     "name": "stdout",
     "output_type": "stream",
     "text": [
      "{'Date': 'Jan-2010', 'Profit/Losses': '867884'}\n",
      "{'Date': 'Feb-2010', 'Profit/Losses': '984655'}\n",
      "{'Date': 'Mar-2010', 'Profit/Losses': '322013'}\n",
      "{'Date': 'Apr-2010', 'Profit/Losses': '-69417'}\n",
      "{'Date': 'May-2010', 'Profit/Losses': '310503'}\n",
      "{'Date': 'Jun-2010', 'Profit/Losses': '522857'}\n",
      "{'Date': 'Jul-2010', 'Profit/Losses': '1033096'}\n",
      "{'Date': 'Aug-2010', 'Profit/Losses': '604885'}\n",
      "{'Date': 'Sep-2010', 'Profit/Losses': '-216386'}\n",
      "{'Date': 'Oct-2010', 'Profit/Losses': '477532'}\n",
      "{'Date': 'Nov-2010', 'Profit/Losses': '893810'}\n",
      "{'Date': 'Dec-2010', 'Profit/Losses': '-80353'}\n",
      "{'Date': 'Jan-2011', 'Profit/Losses': '779806'}\n",
      "{'Date': 'Feb-2011', 'Profit/Losses': '-335203'}\n",
      "{'Date': 'Mar-2011', 'Profit/Losses': '697845'}\n",
      "{'Date': 'Apr-2011', 'Profit/Losses': '793163'}\n",
      "{'Date': 'May-2011', 'Profit/Losses': '485070'}\n",
      "{'Date': 'Jun-2011', 'Profit/Losses': '584122'}\n",
      "{'Date': 'Jul-2011', 'Profit/Losses': '62729'}\n",
      "{'Date': 'Aug-2011', 'Profit/Losses': '668179'}\n",
      "{'Date': 'Sep-2011', 'Profit/Losses': '899906'}\n",
      "{'Date': 'Oct-2011', 'Profit/Losses': '834719'}\n",
      "{'Date': 'Nov-2011', 'Profit/Losses': '132003'}\n",
      "{'Date': 'Dec-2011', 'Profit/Losses': '309978'}\n",
      "{'Date': 'Jan-2012', 'Profit/Losses': '-755566'}\n",
      "{'Date': 'Feb-2012', 'Profit/Losses': '1170593'}\n",
      "{'Date': 'Mar-2012', 'Profit/Losses': '252788'}\n",
      "{'Date': 'Apr-2012', 'Profit/Losses': '1151518'}\n",
      "{'Date': 'May-2012', 'Profit/Losses': '817256'}\n",
      "{'Date': 'Jun-2012', 'Profit/Losses': '570757'}\n",
      "{'Date': 'Jul-2012', 'Profit/Losses': '506702'}\n",
      "{'Date': 'Aug-2012', 'Profit/Losses': '-1022534'}\n",
      "{'Date': 'Sep-2012', 'Profit/Losses': '475062'}\n",
      "{'Date': 'Oct-2012', 'Profit/Losses': '779976'}\n",
      "{'Date': 'Nov-2012', 'Profit/Losses': '144175'}\n",
      "{'Date': 'Dec-2012', 'Profit/Losses': '542494'}\n",
      "{'Date': 'Jan-2013', 'Profit/Losses': '359333'}\n",
      "{'Date': 'Feb-2013', 'Profit/Losses': '321469'}\n",
      "{'Date': 'Mar-2013', 'Profit/Losses': '67780'}\n",
      "{'Date': 'Apr-2013', 'Profit/Losses': '471435'}\n",
      "{'Date': 'May-2013', 'Profit/Losses': '565603'}\n",
      "{'Date': 'Jun-2013', 'Profit/Losses': '872480'}\n",
      "{'Date': 'Jul-2013', 'Profit/Losses': '789480'}\n",
      "{'Date': 'Aug-2013', 'Profit/Losses': '999942'}\n",
      "{'Date': 'Sep-2013', 'Profit/Losses': '-1196225'}\n",
      "{'Date': 'Oct-2013', 'Profit/Losses': '268997'}\n",
      "{'Date': 'Nov-2013', 'Profit/Losses': '-687986'}\n",
      "{'Date': 'Dec-2013', 'Profit/Losses': '1150461'}\n",
      "{'Date': 'Jan-2014', 'Profit/Losses': '682458'}\n",
      "{'Date': 'Feb-2014', 'Profit/Losses': '617856'}\n",
      "{'Date': 'Mar-2014', 'Profit/Losses': '824098'}\n",
      "{'Date': 'Apr-2014', 'Profit/Losses': '581943'}\n",
      "{'Date': 'May-2014', 'Profit/Losses': '132864'}\n",
      "{'Date': 'Jun-2014', 'Profit/Losses': '448062'}\n",
      "{'Date': 'Jul-2014', 'Profit/Losses': '689161'}\n",
      "{'Date': 'Aug-2014', 'Profit/Losses': '800701'}\n",
      "{'Date': 'Sep-2014', 'Profit/Losses': '1166643'}\n",
      "{'Date': 'Oct-2014', 'Profit/Losses': '947333'}\n",
      "{'Date': 'Nov-2014', 'Profit/Losses': '578668'}\n",
      "{'Date': 'Dec-2014', 'Profit/Losses': '988505'}\n",
      "{'Date': 'Jan-2015', 'Profit/Losses': '1139715'}\n",
      "{'Date': 'Feb-2015', 'Profit/Losses': '1029471'}\n",
      "{'Date': 'Mar-2015', 'Profit/Losses': '687533'}\n",
      "{'Date': 'Apr-2015', 'Profit/Losses': '-524626'}\n",
      "{'Date': 'May-2015', 'Profit/Losses': '158620'}\n",
      "{'Date': 'Jun-2015', 'Profit/Losses': '87795'}\n",
      "{'Date': 'Jul-2015', 'Profit/Losses': '423389'}\n",
      "{'Date': 'Aug-2015', 'Profit/Losses': '840723'}\n",
      "{'Date': 'Sep-2015', 'Profit/Losses': '568529'}\n",
      "{'Date': 'Oct-2015', 'Profit/Losses': '332067'}\n",
      "{'Date': 'Nov-2015', 'Profit/Losses': '989499'}\n",
      "{'Date': 'Dec-2015', 'Profit/Losses': '778237'}\n",
      "{'Date': 'Jan-2016', 'Profit/Losses': '650000'}\n",
      "{'Date': 'Feb-2016', 'Profit/Losses': '-1100387'}\n",
      "{'Date': 'Mar-2016', 'Profit/Losses': '-174946'}\n",
      "{'Date': 'Apr-2016', 'Profit/Losses': '757143'}\n",
      "{'Date': 'May-2016', 'Profit/Losses': '445709'}\n",
      "{'Date': 'Jun-2016', 'Profit/Losses': '712961'}\n",
      "{'Date': 'Jul-2016', 'Profit/Losses': '-1163797'}\n",
      "{'Date': 'Aug-2016', 'Profit/Losses': '569899'}\n",
      "{'Date': 'Sep-2016', 'Profit/Losses': '768450'}\n",
      "{'Date': 'Oct-2016', 'Profit/Losses': '102685'}\n",
      "{'Date': 'Nov-2016', 'Profit/Losses': '795914'}\n",
      "{'Date': 'Dec-2016', 'Profit/Losses': '60988'}\n",
      "{'Date': 'Jan-2017', 'Profit/Losses': '138230'}\n",
      "{'Date': 'Feb-2017', 'Profit/Losses': '671099'}\n",
      "86\n"
     ]
    }
   ],
   "source": [
    "for i in range(len(data)):\n",
    "    print(data[i])\n",
    "\n",
    "print(len(data))"
   ]
  },
  {
   "cell_type": "code",
   "execution_count": 163,
   "id": "c83dc03a-04fa-4fa8-ab7b-d2b796c5189a",
   "metadata": {},
   "outputs": [
    {
     "name": "stdout",
     "output_type": "stream",
     "text": [
      "('867884', 'Jan-2010')\n"
     ]
    }
   ],
   "source": [
    "#target = data[0]\n",
    "#target_value = target['Profit/Losses'],  target['Date']\n",
    "\n",
    "#print(target_value)"
   ]
  },
  {
   "cell_type": "code",
   "execution_count": 7,
   "id": "72519fc5-f2ea-4d10-877e-3bfa2c5b98d4",
   "metadata": {},
   "outputs": [
    {
     "ename": "NameError",
     "evalue": "name 'changes' is not defined",
     "output_type": "error",
     "traceback": [
      "\u001b[1;31m---------------------------------------------------------------------------\u001b[0m",
      "\u001b[1;31mNameError\u001b[0m                                 Traceback (most recent call last)",
      "Cell \u001b[1;32mIn[7], line 14\u001b[0m\n\u001b[0;32m     12\u001b[0m         changes\u001b[38;5;241m.\u001b[39mappend(change)    \n\u001b[0;32m     13\u001b[0m     \u001b[38;5;28;01mreturn\u001b[39;00m changes\n\u001b[1;32m---> 14\u001b[0m \u001b[38;5;28mprint\u001b[39m(\u001b[43mchanges\u001b[49m)\n",
      "\u001b[1;31mNameError\u001b[0m: name 'changes' is not defined"
     ]
    }
   ],
   "source": [
    "num = [671099, 138230, 60988, 795914, 102685, 768450, 569899, -1163797, 712961, 445709, 757143, -174946, -1100387, 650000, 778237,\n",
    "          989499, 332067, 568529, 840723, 423389, 87795, 158620, -524626, 867533, 1029471, 1139715, 988505, 578668, 947333, 1166643, 800701, 689161,448062, 132864, 581943, 824098, 617856, 682458, 1150461, -687986, 268997, -1196225, 999942, 789480, 872480, 565603, 471435, 67780, 321469, 359333, 542494, 144175, 779976, 475062, -1022534, 506702, 570757, 817256, 1151518, 252788, 1170593, -755566,309978, 132003, 834719, 899906, 668179, 62729, 584122, 485070, 793163, 697845, -335203, 779806, -80353, 893810, 477532, -216386, 604885,1033096, 522857, 310503, -69417, 322013, 984655, 867884]\n",
    "\n",
    "\n",
    "\n",
    "def get_changes(num):    \n",
    "    changes = []\n",
    "    for i in range(1,len(num)):\n",
    "        current_number = num[i]\n",
    "        previous_number = num[i-1]\n",
    "        change = current_number - previous_number\n",
    "        changes.append(change)    \n",
    "    return changes\n",
    "print(changes)\n",
    "\n",
    "\n",
    "\n",
    "\n",
    "\n"
   ]
  },
  {
   "cell_type": "code",
   "execution_count": 9,
   "id": "d595101c-01b1-478e-8ded-a2a7821c7879",
   "metadata": {},
   "outputs": [],
   "source": [
    "\n",
    "\n",
    "\n",
    "\n",
    "def cal_average_changes(changes):\n",
    "    average_change = round(sum(changes)/len(changes))\n",
    "    print(average_change)\n",
    "    return average_change\n",
    "\n",
    "def biggest_change(change):\n",
    "    #loop through change find the biggest number. \n",
    "    temp = 0\n",
    "    for i in len(change):\n",
    "        if change[i] > temp:\n",
    "            temp = change[i]\n",
    "    return temp\n",
    "        \n",
    "    \n"
   ]
  },
  {
   "cell_type": "code",
   "execution_count": null,
   "id": "060de290-f616-41b2-a970-010cb1f15044",
   "metadata": {},
   "outputs": [],
   "source": []
  }
 ],
 "metadata": {
  "kernelspec": {
   "display_name": "Python 3 (ipykernel)",
   "language": "python",
   "name": "python3"
  },
  "language_info": {
   "codemirror_mode": {
    "name": "ipython",
    "version": 3
   },
   "file_extension": ".py",
   "mimetype": "text/x-python",
   "name": "python",
   "nbconvert_exporter": "python",
   "pygments_lexer": "ipython3",
   "version": "3.10.9"
  }
 },
 "nbformat": 4,
 "nbformat_minor": 5
}
